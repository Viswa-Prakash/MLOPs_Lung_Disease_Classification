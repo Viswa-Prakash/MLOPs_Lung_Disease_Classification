{
 "cells": [
  {
   "cell_type": "code",
   "execution_count": 1,
   "id": "c64fe835",
   "metadata": {},
   "outputs": [
    {
     "name": "stdout",
     "output_type": "stream",
     "text": [
      "[2025-07-10 18:18:05,231: INFO: 1019194767: Testing logger]\n"
     ]
    }
   ],
   "source": [
    "from cnnClassifier import logger\n",
    "\n",
    "logger.info(\"Testing logger\")"
   ]
  },
  {
   "cell_type": "code",
   "execution_count": null,
   "id": "b8c42895",
   "metadata": {},
   "outputs": [],
   "source": []
  }
 ],
 "metadata": {
  "kernelspec": {
   "display_name": "lung",
   "language": "python",
   "name": "python3"
  },
  "language_info": {
   "codemirror_mode": {
    "name": "ipython",
    "version": 3
   },
   "file_extension": ".py",
   "mimetype": "text/x-python",
   "name": "python",
   "nbconvert_exporter": "python",
   "pygments_lexer": "ipython3",
   "version": "3.10.18"
  }
 },
 "nbformat": 4,
 "nbformat_minor": 5
}
