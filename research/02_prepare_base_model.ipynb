{
 "cells": [
  {
   "cell_type": "code",
   "execution_count": 1,
   "id": "e6ead81e",
   "metadata": {},
   "outputs": [],
   "source": [
    "\n",
    "import os"
   ]
  },
  {
   "cell_type": "code",
   "execution_count": 2,
   "id": "ba331abb",
   "metadata": {},
   "outputs": [
    {
     "data": {
      "text/plain": [
       "'c:\\\\Users\\\\viswa\\\\Documents\\\\MLOPs\\\\MLOPs_Lung_Disease_Classification\\\\research'"
      ]
     },
     "execution_count": 2,
     "metadata": {},
     "output_type": "execute_result"
    }
   ],
   "source": [
    "%pwd"
   ]
  },
  {
   "cell_type": "code",
   "execution_count": 3,
   "id": "a65969fa",
   "metadata": {},
   "outputs": [],
   "source": [
    "os.chdir(\"../\")"
   ]
  },
  {
   "cell_type": "code",
   "execution_count": 4,
   "id": "cec62d23",
   "metadata": {},
   "outputs": [
    {
     "data": {
      "text/plain": [
       "'c:\\\\Users\\\\viswa\\\\Documents\\\\MLOPs\\\\MLOPs_Lung_Disease_Classification'"
      ]
     },
     "execution_count": 4,
     "metadata": {},
     "output_type": "execute_result"
    }
   ],
   "source": [
    "%pwd"
   ]
  },
  {
   "cell_type": "code",
   "execution_count": 5,
   "id": "1c4eef54",
   "metadata": {},
   "outputs": [],
   "source": [
    "from dataclasses import dataclass\n",
    "from pathlib import Path\n",
    "\n",
    "\n",
    "@dataclass(frozen=True)\n",
    "class PrepareBaseModelConfig:\n",
    "    root_dir: Path\n",
    "    base_model_path: Path\n",
    "    updated_base_model_path: Path\n",
    "    params_image_size: list\n",
    "    params_learning_rate: float\n",
    "    params_include_top: bool\n",
    "    params_weights: str\n",
    "    params_classes: int\n",
    "    params_dropout: float\n"
   ]
  },
  {
   "cell_type": "code",
   "execution_count": 6,
   "id": "e063aa4e",
   "metadata": {},
   "outputs": [],
   "source": [
    "from cnnClassifier.constants import *\n",
    "from cnnClassifier.utils.common import read_yaml, create_directories"
   ]
  },
  {
   "cell_type": "code",
   "execution_count": 7,
   "id": "4df18f5c",
   "metadata": {},
   "outputs": [],
   "source": [
    "class ConfigurationManager:\n",
    "    def __init__(\n",
    "        self,\n",
    "        config_filepath = CONFIG_FILE_PATH,\n",
    "        params_filepath = PARAMS_FILE_PATH):\n",
    "\n",
    "        self.config = read_yaml(config_filepath)\n",
    "        self.params = read_yaml(params_filepath)\n",
    "\n",
    "        create_directories([self.config.artifacts_root])\n",
    "\n",
    "    def get_prepare_base_model_config(self) -> PrepareBaseModelConfig:\n",
    "        config = self.config.prepare_base_model\n",
    "        create_directories([config.root_dir])\n",
    "\n",
    "        prepare_base_model_config = PrepareBaseModelConfig(\n",
    "            root_dir=Path(config.root_dir),\n",
    "            base_model_path=Path(config.base_model_path),\n",
    "            updated_base_model_path=Path(config.updated_base_model_path),\n",
    "            params_image_size=self.params.IMAGE_SIZE,\n",
    "            params_learning_rate=self.params.LEARNING_RATE,\n",
    "            params_include_top=self.params.INCLUDE_TOP,\n",
    "            params_weights=self.params.WEIGHTS,\n",
    "            params_classes=self.params.CLASSES,\n",
    "            params_dropout=self.params.DROPOUT,\n",
    "\n",
    "        )\n",
    "\n",
    "        return prepare_base_model_config\n"
   ]
  },
  {
   "cell_type": "code",
   "execution_count": 8,
   "id": "d9059c32",
   "metadata": {},
   "outputs": [],
   "source": [
    "from tensorflow.keras.applications import EfficientNetB0\n",
    "import tensorflow as tf\n",
    "from pathlib import Path"
   ]
  },
  {
   "cell_type": "code",
   "execution_count": 9,
   "id": "0327efe9",
   "metadata": {},
   "outputs": [],
   "source": [
    "class PrepareBaseModel:\n",
    "    def __init__(self, config: PrepareBaseModelConfig):\n",
    "        self.config = config\n",
    "        self.model = None\n",
    "        self.full_model = None\n",
    "\n",
    "    def get_base_model(self):\n",
    "        \"\"\"\n",
    "        Load the EfficientNetB0 base model without top layers.\n",
    "        \"\"\"\n",
    "        print(\"[INFO] Loading base EfficientNetB0 model...\")\n",
    "        self.model = EfficientNetB0(\n",
    "            input_shape=tuple(self.config.params_image_size + [3]),\n",
    "            weights=self.config.params_weights,\n",
    "            include_top=self.config.params_include_top\n",
    "        )\n",
    "        print(\"[INFO] Base model loaded successfully.\")\n",
    "\n",
    "    @staticmethod\n",
    "    def _prepare_full_model(model, classes, dropout, freeze_all, freeze_till, learning_rate):\n",
    "        \"\"\"\n",
    "        Add custom classification head and compile the model.\n",
    "        \"\"\"\n",
    "        if freeze_all:\n",
    "            for layer in model.layers:\n",
    "                layer.trainable = False\n",
    "        elif freeze_till is not None and freeze_till > 0:\n",
    "            for layer in model.layers[:-freeze_till]:\n",
    "                layer.trainable = False\n",
    "\n",
    "        x = tf.keras.layers.GlobalAveragePooling2D()(model.output)\n",
    "        x = tf.keras.layers.Dropout(dropout)(x)\n",
    "        output = tf.keras.layers.Dense(units=classes, activation=\"softmax\")(x)\n",
    "\n",
    "        full_model = tf.keras.models.Model(inputs=model.input, outputs=output)\n",
    "\n",
    "        full_model.compile(\n",
    "            optimizer=tf.keras.optimizers.Adam(learning_rate=learning_rate),\n",
    "            loss=tf.keras.losses.SparseCategoricalCrossentropy(),\n",
    "            metrics=[\"accuracy\"]\n",
    "        )\n",
    "\n",
    "        print(\"[INFO] Full model compiled and ready for saving.\")\n",
    "        return full_model\n",
    "\n",
    "    def update_base_model(self):\n",
    "        \"\"\"\n",
    "        Adds classification head to base model and saves the full model.\n",
    "        \"\"\"\n",
    "        if self.model is None:\n",
    "            raise ValueError(\"Base model has not been loaded. Call get_base_model() first.\")\n",
    "\n",
    "        print(\"[INFO] Updating base model with classification head...\")\n",
    "        self.full_model = self._prepare_full_model(\n",
    "            model=self.model,\n",
    "            classes=self.config.params_classes,\n",
    "            dropout=self.config.params_dropout,\n",
    "            freeze_all=True,\n",
    "            freeze_till=None,\n",
    "            learning_rate=self.config.params_learning_rate\n",
    "        )\n",
    "\n",
    "        print(f\"[INFO] Saving full model to: {self.config.updated_base_model_path}\")\n",
    "        self.save_model(path=self.config.updated_base_model_path, model=self.full_model)\n",
    "\n",
    "    @staticmethod\n",
    "    def save_model(path: Path, model: tf.keras.Model):\n",
    "        \"\"\"\n",
    "        Saves the model in TensorFlow SavedModel format (folder-based).\n",
    "        Avoids JSON serialization issues with EagerTensors.\n",
    "        \"\"\"\n",
    "        path = str(path)\n",
    "        # Ensure path is folder (not .keras/.h5 file)\n",
    "        if path.endswith(\".keras\") or path.endswith(\".h5\"):\n",
    "            path = path.replace(\".keras\", \"\").replace(\".h5\", \"\")\n",
    "\n",
    "        model.save(path)  # SavedModel format\n",
    "        print(f\"[INFO] Model saved successfully at {path} (SavedModel format)\")\n"
   ]
  },
  {
   "cell_type": "code",
   "execution_count": 10,
   "id": "dac62634",
   "metadata": {},
   "outputs": [
    {
     "name": "stdout",
     "output_type": "stream",
     "text": [
      "[2025-07-10 20:47:58,085: INFO: common: yaml file: config\\config.yaml loaded successfully]\n",
      "[2025-07-10 20:47:58,089: INFO: common: yaml file: params.yaml loaded successfully]\n",
      "[2025-07-10 20:47:58,091: INFO: common: created directory at: artifacts]\n",
      "[2025-07-10 20:47:58,093: INFO: common: created directory at: artifacts/prepare_base_model]\n",
      "[INFO] Loading base EfficientNetB0 model...\n",
      "[INFO] Base model loaded successfully.\n",
      "[INFO] Updating base model with classification head...\n",
      "[INFO] Full model compiled and ready for saving.\n",
      "[INFO] Saving full model to: artifacts\\prepare_base_model\\base_model_updated\n",
      "[2025-07-10 20:48:22,014: WARNING: save: Found untraced functions such as _jit_compiled_convolution_op, _jit_compiled_convolution_op, _jit_compiled_convolution_op, _jit_compiled_convolution_op, _jit_compiled_convolution_op while saving (showing 5 of 82). These functions will not be directly callable after loading.]\n",
      "[2025-07-10 20:48:41,564: INFO: builder_impl: Assets written to: artifacts\\prepare_base_model\\base_model_updated\\assets]\n",
      "[ERROR] Prepare base model stage failed.\n"
     ]
    }
   ],
   "source": [
    "try:\n",
    "    config = ConfigurationManager()\n",
    "    prepare_base_model_config = config.get_prepare_base_model_config()\n",
    "    prepare_base_model = PrepareBaseModel(config=prepare_base_model_config)\n",
    "    prepare_base_model.get_base_model()\n",
    "    prepare_base_model.update_base_model()\n",
    "    print(\"[INFO] Prepare base model stage completed successfully.\")\n",
    "except Exception:\n",
    "    print(\"[ERROR] Prepare base model stage failed.\")\n"
   ]
  },
  {
   "cell_type": "code",
   "execution_count": null,
   "id": "770a66e3",
   "metadata": {},
   "outputs": [],
   "source": []
  }
 ],
 "metadata": {
  "kernelspec": {
   "display_name": "lung",
   "language": "python",
   "name": "python3"
  },
  "language_info": {
   "codemirror_mode": {
    "name": "ipython",
    "version": 3
   },
   "file_extension": ".py",
   "mimetype": "text/x-python",
   "name": "python",
   "nbconvert_exporter": "python",
   "pygments_lexer": "ipython3",
   "version": "3.10.18"
  }
 },
 "nbformat": 4,
 "nbformat_minor": 5
}
